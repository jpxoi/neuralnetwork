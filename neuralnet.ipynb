{
  "nbformat": 4,
  "nbformat_minor": 0,
  "metadata": {
    "colab": {
      "name": "Neural Network by Jean Paul Fernandez.ipynb",
      "provenance": [],
      "collapsed_sections": [],
      "authorship_tag": "ABX9TyOk08bTJL/5XhlMDYEbGKp7",
      "include_colab_link": true
    },
    "kernelspec": {
      "name": "python3",
      "display_name": "Python 3"
    },
    "language_info": {
      "name": "python"
    },
    "accelerator": "GPU"
  },
  "cells": [
    {
      "cell_type": "markdown",
      "metadata": {
        "id": "view-in-github",
        "colab_type": "text"
      },
      "source": [
        "<a href=\"https://colab.research.google.com/github/jpxoi/neuralnetwork/blob/main/neuralnet.ipynb\" target=\"_parent\"><img src=\"https://colab.research.google.com/assets/colab-badge.svg\" alt=\"Open In Colab\"/></a>"
      ]
    },
    {
      "cell_type": "markdown",
      "metadata": {
        "id": "cgLkvbjjK0xj"
      },
      "source": [
        "# Basic Libraries Import\n",
        "\n",
        "\n",
        "\n"
      ]
    },
    {
      "cell_type": "code",
      "metadata": {
        "id": "Dg6z9YYdIkb1"
      },
      "source": [
        "import numpy as np\n",
        "import scipy as sc\n",
        "import matplotlib.pyplot as plt\n",
        "\n",
        "from sklearn.datasets import make_circles"
      ],
      "execution_count": null,
      "outputs": []
    },
    {
      "cell_type": "markdown",
      "metadata": {
        "id": "FNO9Xl-vL40i"
      },
      "source": [
        "# Dataset Creation"
      ]
    },
    {
      "cell_type": "markdown",
      "metadata": {
        "id": "-_GMujghdIIZ"
      },
      "source": [
        "##Variables"
      ]
    },
    {
      "cell_type": "code",
      "metadata": {
        "id": "ul3O-TnIMA80"
      },
      "source": [
        "n = 500\n",
        "p = 2"
      ],
      "execution_count": null,
      "outputs": []
    },
    {
      "cell_type": "markdown",
      "metadata": {
        "id": "VKPt5-endXmo"
      },
      "source": [
        "Consider that:\n",
        "* n = number of sample data\n",
        "* p = number of parameters"
      ]
    },
    {
      "cell_type": "markdown",
      "metadata": {
        "id": "bzuW95ZLdObx"
      },
      "source": [
        "## Graph Plotting"
      ]
    },
    {
      "cell_type": "code",
      "metadata": {
        "colab": {
          "base_uri": "https://localhost:8080/",
          "height": 265
        },
        "id": "VYjTHDBQdSPx",
        "outputId": "a0dc665b-e996-418a-e7c7-a783ae7dfcaf"
      },
      "source": [
        "X, Y = make_circles(n_samples=n, factor=0.5, noise=0.05)\n",
        "\n",
        "Y = Y[:, np.newaxis]\n",
        "\n",
        "plt.scatter(X[Y[:, 0] == 0, 0], X[Y[:, 0] == 0, 1], c=\"blue\")\n",
        "plt.scatter(X[Y[:, 0] == 1, 0], X[Y[:, 0] == 1, 1], c=\"red\")\n",
        "plt.axis(\"equal\")\n",
        "plt.show()"
      ],
      "execution_count": null,
      "outputs": [
        {
          "output_type": "display_data",
          "data": {
            "image/png": "[encoded data removed]",
            "text/plain": [
              "<Figure size 432x288 with 1 Axes>"
            ]
          },
          "metadata": {
            "needs_background": "light"
          }
        }
      ]
    },
    {
      "cell_type": "markdown",
      "metadata": {
        "id": "M2nT8dpwOrxu"
      },
      "source": [
        "# Neural Network"
      ]
    },
    {
      "cell_type": "markdown",
      "metadata": {
        "id": "uH2uqX6rVHwb"
      },
      "source": [
        "Neural networks are composed of neurons, which in turn are grouped into layers: each neuron in each layer is connected to all the neurons in the previous layer. In each neuron, a series of operations will be performed which, by optimizing, we will get our network to learn."
      ]
    },
    {
      "cell_type": "markdown",
      "metadata": {
        "id": "i3lj3XC8QywY"
      },
      "source": [
        "### Neural Layers"
      ]
    },
    {
      "cell_type": "markdown",
      "metadata": {
        "id": "HbOGjQjxVD65"
      },
      "source": [
        "In order to program a layer of neurons, we must first have a good understanding of how they work. Basically, a neural network works as follows:\n",
        "\n",
        "1. A layer receives values, called inputs. In the first layer, these values will be defined by the input data, while the other layers will receive the result of the previous layer.\n",
        "2. A weighted sum of all the input values is performed. To do this weighting we need a matrix of weights, known as W. The matrix W has as many rows as neurons in the previous layer and as many columns as neurons in that layer.\n",
        "3. To the result of the previous weighted sum we will add another parameter, known as bias or, simply, b. In this case, each neuron has its own bias, so the dimensions of the bias vector will be one column and as many rows as neurons that layer has.\n",
        "4. Fourth, we have one of the keys to neural networks: the activation function. And, if you notice, what we have so far is nothing more than a linear regression. To avoid that the whole neural network can be reduced to a simple linear regression, a function, known as activation function, is applied to the result of the sum of the bias to the weighted sum. The result of this function will be the output of the neuron.\n",
        "\n",
        "Therefore, in order to assemble a layer of a neural network we only need to know the number of neurons in the layer and the number of neurons in the previous layer. With that, we will be able to create both W and b.\n",
        "\n",
        "To create this structure we are going to create a class, which we will call neural_layer. In addition, we will initialize the parameters (b and W) with random data."
      ]
    },
    {
      "cell_type": "code",
      "metadata": {
        "id": "p3IQRB9JPMw_"
      },
      "source": [
        "class neural_layer():\n",
        "  def __init__(self, n_conn, n_neur, act_f):\n",
        "    self.act_f = act_f\n",
        "    self.b = np.random.rand(1, n_neur) * 2 - 1\n",
        "    self.W = np.random.rand(n_conn, n_neur) * 2 - 1"
      ],
      "execution_count": null,
      "outputs": []
    },
    {
      "cell_type": "markdown",
      "metadata": {
        "id": "pIMicqZVefVi"
      },
      "source": [
        "Consider that:\n",
        "\n",
        "* n_conn = connections number\n",
        "* n_neur = neurons number\n",
        "* act_f = activation function"
      ]
    },
    {
      "cell_type": "markdown",
      "metadata": {
        "id": "w24rPJd0RJ_w"
      },
      "source": [
        "### Activation Functions"
      ]
    },
    {
      "cell_type": "markdown",
      "metadata": {
        "id": "ZTBY73j-VMBX"
      },
      "source": [
        "As I said before, to the result of the weighted sum of the input and the bias parameter we apply an activation function, that is, a transformation to the data. The reason is that, if we did not do this, each neuron would only do a linear transformation of the data, resulting in a normal linear function.\n",
        "\n",
        "Which function do we use? We could use any activation function that makes the result non-linear, but generally two are used: sigmoid function and ReLu function."
      ]
    },
    {
      "cell_type": "markdown",
      "metadata": {
        "id": "WwSqYrbQUua_"
      },
      "source": [
        "#### Sigmoid Function"
      ]
    },
    {
      "cell_type": "markdown",
      "metadata": {
        "id": "HkdHWpGwVNqA"
      },
      "source": [
        "The sigmoid function basically receives a value **x** and returns a value between 0 and 1. This makes it a very interesting function, since it indicates the probability of a state. For example, if we use the sigmoid function in the last layer for a classification problem between two classes, the function will return the probability of group membership."
      ]
    },
    {
      "cell_type": "code",
      "metadata": {
        "colab": {
          "base_uri": "https://localhost:8080/",
          "height": 54
        },
        "id": "TTZmJ7JwRMY1",
        "outputId": "91874cde-8877-4e41-834e-262c5ad7eb6f"
      },
      "source": [
        "#Function\n",
        "sigm = (\n",
        "  lambda x: 1 / (1 + np.e ** (-x)),\n",
        "  lambda x: x * (1 - x)\n",
        "  )\n",
        "\n",
        "#Variables\n",
        "rang = np.linspace(-5, 5, 100)\n",
        "sigm_func = sigm[0](rang)\n",
        "sigm_derv = sigm[1](rang)\n",
        "\n",
        "#Graph Plotting\n",
        "fig, axes = plt.subplots(nrows=1, ncols=2, figsize=(15,5))\n",
        "axes[0].plot(rang, sigm_func)\n",
        "axes[1].plot(rang, sigm_derv)\n",
        "fig.tight_layout()"
      ],
      "execution_count": null,
      "outputs": [
        {
          "output_type": "display_data",
          "data": {
            "image/png": "[encoded data removed]",
            "text/plain": [
              "<Figure size 1080x360 with 2 Axes>"
            ]
          },
          "metadata": {
            "needs_background": "light"
          }
        }
      ]
    },
    {
      "cell_type": "markdown",
      "metadata": {
        "id": "vq_jE4waOt0t"
      },
      "source": [
        "#### ReLu Function"
      ]
    },
    {
      "cell_type": "markdown",
      "metadata": {
        "id": "pGNyVOOUVuja"
      },
      "source": [
        "The ReLu function is very simple: for negative values, the function returns zero. For positive values, the function returns the same value. But, despite being so simple, this function is the most used activation function in the field of neural networks and deep learning. Why? Precisely because it is simple and because it avoids the gradient vanish."
      ]
    },
    {
      "cell_type": "code",
      "metadata": {
        "colab": {
          "base_uri": "https://localhost:8080/",
          "height": 54
        },
        "id": "gimdSyObVj2P",
        "outputId": "b0a914d4-9534-415d-99fb-bd3372d93087"
      },
      "source": [
        "#Function\n",
        "def relu_derivate(x):\n",
        "  x[x<=0] = 0\n",
        "  x[x>0] = 1\n",
        "  return x\n",
        "\n",
        "relu = (\n",
        "  lambda x: x * (x > 0),\n",
        "  lambda x: relu_derivate(x)\n",
        "  )\n",
        "\n",
        "#Variables\n",
        "rang = np.linspace(-5, 5, 100)\n",
        "relu_func = relu[0](rang)\n",
        "relu_derv = relu[1](rang)\n",
        "\n",
        "# Graph Plotting\n",
        "fig, axes = plt.subplots(nrows=1, ncols=2, figsize =(15,5))\n",
        "axes[0].plot(rang, relu_func)\n",
        "axes[1].plot(rang, relu_derv)\n",
        "plt.show()"
      ],
      "execution_count": null,
      "outputs": [
        {
          "output_type": "display_data",
          "data": {
            "image/png": "[encoded data removed]",
            "text/plain": [
              "<Figure size 1080x360 with 2 Axes>"
            ]
          },
          "metadata": {
            "needs_background": "light"
          }
        }
      ]
    },
    {
      "cell_type": "markdown",
      "metadata": {
        "id": "b4blUI2CcOiH"
      },
      "source": [
        "### Neural Network"
      ]
    },
    {
      "cell_type": "markdown",
      "metadata": {
        "id": "YanNzjMjcdtz"
      },
      "source": [
        "To create a neural network, we will simply have to indicate three things: the number of layers that the network has, the number of neurons in each layer and the activation function that will be used in each of the layers. With that and with what we have programmed so far we can create the structure of our neural network.\n",
        "\n",
        "In our case, we will use the neural network to solve a two-class classification problem, for which we will use a small, 5-layer network that will be composed of:\n",
        "\n",
        "* An input layer with two neurons, since we will use two variables/parameters.\n",
        "* Five hidden layers, two with 4 neurons, and the other with 8.\n",
        "* An output layer, with a single neuron that will predict the class.\n",
        "\n",
        "The number of neurons per layer is defined by the variable topology.\n",
        "\n",
        "Also, we have to define which activation function will be used in each layer. In our case, we will use the sigmoid function in all layers. It is important to remember that in the first layer only data is received, no function or anything else is applied.\n",
        "\n",
        "On the other hand, Python does not allow us to create a list of functions. Therefore, we have defined the relu and sigmoid functions as hidden functions using lambda."
      ]
    },
    {
      "cell_type": "markdown",
      "metadata": {
        "id": "Bh6VT8Idieiv"
      },
      "source": [
        "#### Creation"
      ]
    },
    {
      "cell_type": "code",
      "metadata": {
        "colab": {
          "base_uri": "https://localhost:8080/"
        },
        "id": "3DYrkeTkcWZB",
        "outputId": "8004da1a-d2b6-4d30-955c-db632f5ed499"
      },
      "source": [
        "def create_nn(topology, act_f):\n",
        "\n",
        "  nn = []\n",
        "\n",
        "  for l, layer in enumerate(topology[:-1]):\n",
        "    nn.append(neural_layer(topology[l], topology[l+1], act_f))\n",
        "  \n",
        "  return nn\n",
        "\n",
        "topology = [p, 4, 8, 4, 1]\n",
        "\n",
        "neural_network = create_nn(topology, sigm)\n",
        "\n",
        "print(neural_network)"
      ],
      "execution_count": null,
      "outputs": [
        {
          "output_type": "stream",
          "name": "stdout",
          "text": [
            "[<__main__.neural_layer object at 0x7fc07fd23250>, <__main__.neural_layer object at 0x7fc07fd233d0>, <__main__.neural_layer object at 0x7fc07fd23190>, <__main__.neural_layer object at 0x7fc07fd1e550>]\n"
          ]
        }
      ]
    },
    {
      "cell_type": "markdown",
      "metadata": {
        "id": "3kh9XR-QhA03"
      },
      "source": [
        "With this we already have the structure of our neural network. Now there are only two more steps: on the one hand, connect the network to give us a prediction and an error and, on the other hand, propagate that error backwards to train our neural network."
      ]
    },
    {
      "cell_type": "markdown",
      "metadata": {
        "id": "AKTsdFGOhs-y"
      },
      "source": [
        "#### Training"
      ]
    },
    {
      "cell_type": "markdown",
      "metadata": {
        "id": "YUO6sTmjlWhM"
      },
      "source": [
        "##### Cost Function"
      ]
    },
    {
      "cell_type": "markdown",
      "metadata": {
        "id": "i3EJeXSYjgsp"
      },
      "source": [
        "In order to train the neural network, the first thing to do is to calculate how much it has failed. To do this we will use one of the most typical estimators in the world of machine learning: the mean squared error (MSE).\n",
        "\n",
        "Calculating the mean squared error is quite simple: subtract the actual value from each predicted value, square it, do the weighted sum and calculate its root. In addition, as we have done before we will take advantage of this same function to return the derivative of the cost function, which will be useful in the backpropagation step. :"
      ]
    },
    {
      "cell_type": "code",
      "metadata": {
        "id": "IILxWa51h_AF"
      },
      "source": [
        "l2_cost = (\n",
        "  lambda Yp, Yr: np.mean((Yp - Yr) ** 2),\n",
        "  lambda Yp, Yr: (Yp - Yr)\n",
        ")"
      ],
      "execution_count": null,
      "outputs": []
    },
    {
      "cell_type": "markdown",
      "metadata": {
        "id": "ReAVOmT0kszs"
      },
      "source": [
        "Now that we have the error calculated, we have to propagate it backwards to adjust the parameters. By doing this iteratively, our neural network will improve its predictions, i.e., its error will decrease. This is how a neural network is trained."
      ]
    },
    {
      "cell_type": "markdown",
      "metadata": {
        "id": "GaY0TqpMYNSj"
      },
      "source": [
        "##### Training Process"
      ]
    },
    {
      "cell_type": "code",
      "metadata": {
        "id": "q4raXLNDlGLe",
        "colab": {
          "base_uri": "https://localhost:8080/"
        },
        "outputId": "160847ba-282e-483c-8301-5bd69fcd9937"
      },
      "source": [
        "def train(neural_network, X, Y, l2_cost, lr=0.5, train=True):\n",
        "\n",
        "  out = [(None, X)]\n",
        "  \n",
        "  #Forward Pass\n",
        "  for l, layer in enumerate(neural_network):\n",
        "    z = out[-1][1] @ neural_network[l].W + neural_network[l].b\n",
        "    a = neural_network[l].act_f[0](z)\n",
        "\n",
        "    out.append((z, a))\n",
        "\n",
        "  if train:\n",
        "\n",
        "    #Backward Pass\n",
        "    deltas = []\n",
        "\n",
        "    for l in reversed(range(0, len(neural_network))):\n",
        "      \n",
        "      z = out[l+1][0]\n",
        "      a = out[l+1][1]\n",
        "\n",
        "      if l == len (neural_network) -1:\n",
        "        deltas.insert(0, l2_cost[1](a, Y) * neural_network[l].act_f[1](a))\n",
        "      \n",
        "      else:\n",
        "        deltas.insert(0, deltas[0] @ _W.T * neural_network[l].act_f[1](a))\n",
        "\n",
        "      _W = neural_network[l].W\n",
        "\n",
        "      #Gradient Descent\n",
        "      neural_network[l].b = neural_network[l].b - np.mean(deltas[0], axis=0, keepdims=True) * lr\n",
        "      neural_network[l].W = neural_network[l].W - out[l][1].T @ deltas[0] * lr\n",
        "\n",
        "  return out[-1][1]\n",
        "\n",
        "train(neural_network, X, Y, l2_cost, 0.5)\n"
      ],
      "execution_count": null,
      "outputs": [
        {
          "output_type": "execute_result",
          "data": {
            "text/plain": [
              "array([[0.64957301],\n",
              "       [0.65026351],\n",
              "       [0.64910861],\n",
              "       [0.64907994],\n",
              "       [0.64980597],\n",
              "       [0.65031548],\n",
              "       [0.64925768],\n",
              "       [0.64824393],\n",
              "       [0.64946958],\n",
              "       [0.64988123],\n",
              "       [0.64814208],\n",
              "       [0.64766283],\n",
              "       [0.64901633],\n",
              "       [0.65125914],\n",
              "       [0.64982538],\n",
              "       [0.65011024],\n",
              "       [0.64879351],\n",
              "       [0.64832146],\n",
              "       [0.65098693],\n",
              "       [0.64837404],\n",
              "       [0.65102151],\n",
              "       [0.64825623],\n",
              "       [0.64811907],\n",
              "       [0.64836291],\n",
              "       [0.64815691],\n",
              "       [0.64971759],\n",
              "       [0.64782256],\n",
              "       [0.64991887],\n",
              "       [0.6491439 ],\n",
              "       [0.64806524],\n",
              "       [0.64778228],\n",
              "       [0.64898884],\n",
              "       [0.64948662],\n",
              "       [0.65096911],\n",
              "       [0.64836421],\n",
              "       [0.64844239],\n",
              "       [0.64879426],\n",
              "       [0.6473261 ],\n",
              "       [0.64832549],\n",
              "       [0.64870901],\n",
              "       [0.65007217],\n",
              "       [0.6481867 ],\n",
              "       [0.64952047],\n",
              "       [0.64905684],\n",
              "       [0.6489161 ],\n",
              "       [0.64763505],\n",
              "       [0.6499113 ],\n",
              "       [0.64940533],\n",
              "       [0.65109027],\n",
              "       [0.64725959],\n",
              "       [0.64892971],\n",
              "       [0.64922809],\n",
              "       [0.65089674],\n",
              "       [0.65068126],\n",
              "       [0.64958287],\n",
              "       [0.64849948],\n",
              "       [0.65014722],\n",
              "       [0.65014555],\n",
              "       [0.6477501 ],\n",
              "       [0.65095327],\n",
              "       [0.65058256],\n",
              "       [0.64944181],\n",
              "       [0.65040176],\n",
              "       [0.65010771],\n",
              "       [0.64986299],\n",
              "       [0.6477006 ],\n",
              "       [0.64857694],\n",
              "       [0.65083609],\n",
              "       [0.65016395],\n",
              "       [0.64859792],\n",
              "       [0.64835945],\n",
              "       [0.64884229],\n",
              "       [0.64740275],\n",
              "       [0.65053176],\n",
              "       [0.64947141],\n",
              "       [0.64822162],\n",
              "       [0.6510758 ],\n",
              "       [0.64986792],\n",
              "       [0.64841775],\n",
              "       [0.65035248],\n",
              "       [0.64798708],\n",
              "       [0.65019274],\n",
              "       [0.64851228],\n",
              "       [0.64989613],\n",
              "       [0.64767036],\n",
              "       [0.64735218],\n",
              "       [0.64986676],\n",
              "       [0.64786088],\n",
              "       [0.64823779],\n",
              "       [0.64927458],\n",
              "       [0.64972518],\n",
              "       [0.64957447],\n",
              "       [0.65093049],\n",
              "       [0.64913049],\n",
              "       [0.64825323],\n",
              "       [0.64989435],\n",
              "       [0.65079323],\n",
              "       [0.64995713],\n",
              "       [0.64824976],\n",
              "       [0.64943944],\n",
              "       [0.64994065],\n",
              "       [0.64945898],\n",
              "       [0.64817622],\n",
              "       [0.64842008],\n",
              "       [0.65004331],\n",
              "       [0.64754604],\n",
              "       [0.6493542 ],\n",
              "       [0.64846043],\n",
              "       [0.64754118],\n",
              "       [0.65008342],\n",
              "       [0.64805067],\n",
              "       [0.64971006],\n",
              "       [0.65001817],\n",
              "       [0.64832415],\n",
              "       [0.64742576],\n",
              "       [0.64993342],\n",
              "       [0.6471895 ],\n",
              "       [0.64743253],\n",
              "       [0.64771546],\n",
              "       [0.64922402],\n",
              "       [0.64959034],\n",
              "       [0.64919893],\n",
              "       [0.64923778],\n",
              "       [0.6487478 ],\n",
              "       [0.65014734],\n",
              "       [0.65011165],\n",
              "       [0.64734   ],\n",
              "       [0.65003042],\n",
              "       [0.64853572],\n",
              "       [0.6496296 ],\n",
              "       [0.64999384],\n",
              "       [0.64925846],\n",
              "       [0.64870581],\n",
              "       [0.64967022],\n",
              "       [0.64730858],\n",
              "       [0.64779032],\n",
              "       [0.64948227],\n",
              "       [0.64769754],\n",
              "       [0.64859676],\n",
              "       [0.6496712 ],\n",
              "       [0.65115969],\n",
              "       [0.65108014],\n",
              "       [0.65093769],\n",
              "       [0.64733177],\n",
              "       [0.65017775],\n",
              "       [0.64766528],\n",
              "       [0.64860546],\n",
              "       [0.65087091],\n",
              "       [0.64868764],\n",
              "       [0.65122327],\n",
              "       [0.64975978],\n",
              "       [0.6503257 ],\n",
              "       [0.64997405],\n",
              "       [0.64777849],\n",
              "       [0.64760109],\n",
              "       [0.64730625],\n",
              "       [0.64912073],\n",
              "       [0.64917726],\n",
              "       [0.64865449],\n",
              "       [0.6489307 ],\n",
              "       [0.64950303],\n",
              "       [0.64726145],\n",
              "       [0.64942819],\n",
              "       [0.65018171],\n",
              "       [0.64743921],\n",
              "       [0.64818926],\n",
              "       [0.64980896],\n",
              "       [0.64890917],\n",
              "       [0.64926876],\n",
              "       [0.6498451 ],\n",
              "       [0.64751111],\n",
              "       [0.64925511],\n",
              "       [0.64817514],\n",
              "       [0.64755272],\n",
              "       [0.64741192],\n",
              "       [0.65017251],\n",
              "       [0.64931674],\n",
              "       [0.64964043],\n",
              "       [0.64850418],\n",
              "       [0.64941513],\n",
              "       [0.6477849 ],\n",
              "       [0.64871421],\n",
              "       [0.64894493],\n",
              "       [0.6508775 ],\n",
              "       [0.6473548 ],\n",
              "       [0.64991423],\n",
              "       [0.65016789],\n",
              "       [0.65102376],\n",
              "       [0.65083402],\n",
              "       [0.6510641 ],\n",
              "       [0.64739604],\n",
              "       [0.64713853],\n",
              "       [0.6475324 ],\n",
              "       [0.64856668],\n",
              "       [0.65069915],\n",
              "       [0.65018522],\n",
              "       [0.64825461],\n",
              "       [0.64815502],\n",
              "       [0.64908209],\n",
              "       [0.64830885],\n",
              "       [0.65023967],\n",
              "       [0.64993644],\n",
              "       [0.65004648],\n",
              "       [0.64976841],\n",
              "       [0.64995578],\n",
              "       [0.6486242 ],\n",
              "       [0.64880407],\n",
              "       [0.64888525],\n",
              "       [0.64821437],\n",
              "       [0.65017045],\n",
              "       [0.64917306],\n",
              "       [0.648488  ],\n",
              "       [0.64755402],\n",
              "       [0.65044324],\n",
              "       [0.648161  ],\n",
              "       [0.65068715],\n",
              "       [0.64778924],\n",
              "       [0.6502609 ],\n",
              "       [0.64882601],\n",
              "       [0.64876088],\n",
              "       [0.65053609],\n",
              "       [0.64891018],\n",
              "       [0.65062104],\n",
              "       [0.64860242],\n",
              "       [0.6474184 ],\n",
              "       [0.64821552],\n",
              "       [0.64902998],\n",
              "       [0.64890513],\n",
              "       [0.65011131],\n",
              "       [0.64875883],\n",
              "       [0.64837723],\n",
              "       [0.65040672],\n",
              "       [0.64802063],\n",
              "       [0.64860684],\n",
              "       [0.65106317],\n",
              "       [0.65109913],\n",
              "       [0.65061514],\n",
              "       [0.64883529],\n",
              "       [0.6481824 ],\n",
              "       [0.64971942],\n",
              "       [0.64999592],\n",
              "       [0.6502913 ],\n",
              "       [0.64809914],\n",
              "       [0.64828255],\n",
              "       [0.65100399],\n",
              "       [0.64941076],\n",
              "       [0.6510555 ],\n",
              "       [0.6474393 ],\n",
              "       [0.64859482],\n",
              "       [0.64947527],\n",
              "       [0.65017809],\n",
              "       [0.64831823],\n",
              "       [0.65098697],\n",
              "       [0.64998453],\n",
              "       [0.64977622],\n",
              "       [0.64875939],\n",
              "       [0.64829402],\n",
              "       [0.64997495],\n",
              "       [0.64748717],\n",
              "       [0.64790393],\n",
              "       [0.64753082],\n",
              "       [0.6487721 ],\n",
              "       [0.64882581],\n",
              "       [0.64827467],\n",
              "       [0.6506424 ],\n",
              "       [0.6508847 ],\n",
              "       [0.65121161],\n",
              "       [0.64841711],\n",
              "       [0.64866765],\n",
              "       [0.64915241],\n",
              "       [0.65022866],\n",
              "       [0.64854809],\n",
              "       [0.64928674],\n",
              "       [0.65027154],\n",
              "       [0.64912794],\n",
              "       [0.65078505],\n",
              "       [0.6477667 ],\n",
              "       [0.64963994],\n",
              "       [0.64902445],\n",
              "       [0.64833939],\n",
              "       [0.6494597 ],\n",
              "       [0.6474287 ],\n",
              "       [0.6483932 ],\n",
              "       [0.64976684],\n",
              "       [0.64843524],\n",
              "       [0.64957693],\n",
              "       [0.65106659],\n",
              "       [0.64876786],\n",
              "       [0.64825212],\n",
              "       [0.64764894],\n",
              "       [0.64974745],\n",
              "       [0.65012377],\n",
              "       [0.64859142],\n",
              "       [0.6475005 ],\n",
              "       [0.64810712],\n",
              "       [0.64899852],\n",
              "       [0.64828587],\n",
              "       [0.64993373],\n",
              "       [0.64897733],\n",
              "       [0.64832333],\n",
              "       [0.64929854],\n",
              "       [0.64855032],\n",
              "       [0.65080063],\n",
              "       [0.64958952],\n",
              "       [0.65111557],\n",
              "       [0.65009131],\n",
              "       [0.65062532],\n",
              "       [0.650365  ],\n",
              "       [0.64937821],\n",
              "       [0.6503065 ],\n",
              "       [0.64953025],\n",
              "       [0.64828157],\n",
              "       [0.64760925],\n",
              "       [0.64739179],\n",
              "       [0.64835076],\n",
              "       [0.6499957 ],\n",
              "       [0.65098693],\n",
              "       [0.64848867],\n",
              "       [0.65013738],\n",
              "       [0.65063824],\n",
              "       [0.65112586],\n",
              "       [0.64781738],\n",
              "       [0.65092385],\n",
              "       [0.64913859],\n",
              "       [0.64998149],\n",
              "       [0.64723984],\n",
              "       [0.65001544],\n",
              "       [0.64837801],\n",
              "       [0.64923992],\n",
              "       [0.64838464],\n",
              "       [0.64886773],\n",
              "       [0.64904835],\n",
              "       [0.64814313],\n",
              "       [0.65001489],\n",
              "       [0.64894392],\n",
              "       [0.64818868],\n",
              "       [0.6488835 ],\n",
              "       [0.64829818],\n",
              "       [0.64956516],\n",
              "       [0.64833448],\n",
              "       [0.64909275],\n",
              "       [0.64987415],\n",
              "       [0.64892112],\n",
              "       [0.64809123],\n",
              "       [0.6475963 ],\n",
              "       [0.64735364],\n",
              "       [0.64962585],\n",
              "       [0.64888749],\n",
              "       [0.65004673],\n",
              "       [0.64788594],\n",
              "       [0.64835936],\n",
              "       [0.64934739],\n",
              "       [0.65128735],\n",
              "       [0.64985661],\n",
              "       [0.64965398],\n",
              "       [0.65021244],\n",
              "       [0.6500949 ],\n",
              "       [0.64741318],\n",
              "       [0.65067522],\n",
              "       [0.64730551],\n",
              "       [0.64986538],\n",
              "       [0.64823977],\n",
              "       [0.64751097],\n",
              "       [0.65072231],\n",
              "       [0.64965255],\n",
              "       [0.64849848],\n",
              "       [0.6498446 ],\n",
              "       [0.6492048 ],\n",
              "       [0.65025546],\n",
              "       [0.64789954],\n",
              "       [0.64984067],\n",
              "       [0.64927002],\n",
              "       [0.64987614],\n",
              "       [0.64963988],\n",
              "       [0.64903414],\n",
              "       [0.64876018],\n",
              "       [0.64990799],\n",
              "       [0.64998994],\n",
              "       [0.64795569],\n",
              "       [0.65015502],\n",
              "       [0.64849571],\n",
              "       [0.64838949],\n",
              "       [0.65025691],\n",
              "       [0.64921762],\n",
              "       [0.64866257],\n",
              "       [0.65100784],\n",
              "       [0.64975684],\n",
              "       [0.64964954],\n",
              "       [0.64943619],\n",
              "       [0.64998367],\n",
              "       [0.65027104],\n",
              "       [0.64909588],\n",
              "       [0.64853385],\n",
              "       [0.64812641],\n",
              "       [0.64889427],\n",
              "       [0.65001279],\n",
              "       [0.65024291],\n",
              "       [0.64819123],\n",
              "       [0.65082459],\n",
              "       [0.64805725],\n",
              "       [0.64875845],\n",
              "       [0.64743263],\n",
              "       [0.64823102],\n",
              "       [0.64866497],\n",
              "       [0.64852103],\n",
              "       [0.64948502],\n",
              "       [0.64805079],\n",
              "       [0.64832919],\n",
              "       [0.64925175],\n",
              "       [0.64998716],\n",
              "       [0.64823822],\n",
              "       [0.65056822],\n",
              "       [0.65014509],\n",
              "       [0.64835741],\n",
              "       [0.64979574],\n",
              "       [0.64758953],\n",
              "       [0.64990104],\n",
              "       [0.64822199],\n",
              "       [0.65110313],\n",
              "       [0.65080436],\n",
              "       [0.65084438],\n",
              "       [0.65035903],\n",
              "       [0.64767434],\n",
              "       [0.64732884],\n",
              "       [0.64992289],\n",
              "       [0.65112191],\n",
              "       [0.64923369],\n",
              "       [0.6488805 ],\n",
              "       [0.65017334],\n",
              "       [0.64944552],\n",
              "       [0.64895712],\n",
              "       [0.64797785],\n",
              "       [0.65000568],\n",
              "       [0.65088053],\n",
              "       [0.64864326],\n",
              "       [0.64831224],\n",
              "       [0.64957145],\n",
              "       [0.65006612],\n",
              "       [0.64950856],\n",
              "       [0.64856926],\n",
              "       [0.65012379],\n",
              "       [0.6513824 ],\n",
              "       [0.65075491],\n",
              "       [0.64952753],\n",
              "       [0.65013117],\n",
              "       [0.64756418],\n",
              "       [0.64805599],\n",
              "       [0.6500692 ],\n",
              "       [0.65096684],\n",
              "       [0.64828506],\n",
              "       [0.65094975],\n",
              "       [0.65087016],\n",
              "       [0.64858073],\n",
              "       [0.65011612],\n",
              "       [0.64821886],\n",
              "       [0.64980473],\n",
              "       [0.64845928],\n",
              "       [0.64839206],\n",
              "       [0.65108042],\n",
              "       [0.65006422],\n",
              "       [0.65086202],\n",
              "       [0.64915642],\n",
              "       [0.64979022],\n",
              "       [0.64896808],\n",
              "       [0.64810028],\n",
              "       [0.64867749],\n",
              "       [0.64929392],\n",
              "       [0.64823817],\n",
              "       [0.64798512],\n",
              "       [0.64933289],\n",
              "       [0.64764046],\n",
              "       [0.65005349],\n",
              "       [0.65042132],\n",
              "       [0.65010426],\n",
              "       [0.64875735],\n",
              "       [0.64923715],\n",
              "       [0.64943123],\n",
              "       [0.65109839],\n",
              "       [0.64825969],\n",
              "       [0.64777023],\n",
              "       [0.64787849],\n",
              "       [0.64842709],\n",
              "       [0.64986055],\n",
              "       [0.64980949],\n",
              "       [0.64825703],\n",
              "       [0.65068494],\n",
              "       [0.65029111],\n",
              "       [0.64866809],\n",
              "       [0.64866946],\n",
              "       [0.65005074],\n",
              "       [0.64729694],\n",
              "       [0.64733681],\n",
              "       [0.64755643],\n",
              "       [0.64904241],\n",
              "       [0.65065495],\n",
              "       [0.6486369 ],\n",
              "       [0.64815311],\n",
              "       [0.64905113],\n",
              "       [0.65003532],\n",
              "       [0.6480998 ]])"
            ]
          },
          "metadata": {},
          "execution_count": 29
        }
      ]
    },
    {
      "cell_type": "markdown",
      "metadata": {
        "id": "MooDWGa6YeRI"
      },
      "source": [
        "###### Forward Pass"
      ]
    },
    {
      "cell_type": "markdown",
      "metadata": {
        "id": "8tlASrcAYntA"
      },
      "source": [
        "For our neural network to predict the only thing we have to do is to define the calculations it has to follow. As I have commented above, there are 3 calculations to follow: multiply the input values by the weight matrix W and add the bias parameter (b) and apply the activation function.\n",
        "\n",
        "To multiply the input values by the weight matrix we have to do a matrix multiplication."
      ]
    },
    {
      "cell_type": "markdown",
      "metadata": {
        "id": "MlTD-a_blduK"
      },
      "source": [
        "###### Gradient Descent"
      ]
    },
    {
      "cell_type": "markdown",
      "metadata": {
        "id": "a_yZggATVY6m"
      },
      "source": [
        "With the gradient descent algorithm we will optimize the parameters in order to improve the results of our network. If we go back, we have initialized the parameters randomly. Therefore, it is unlikely that their values are the best for our neural network. Suppose, for example, that our parameters have been initialized in this position.\n",
        "\n",
        "![image.png](data:image/png;base64,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)\n",
        "\n",
        "As you can see, the values are far from the optimal value (the dark blue one below), so we should make our parameter reach there. But how do we do it?\n",
        "\n",
        "To do so, we will use gradient descent. This algorithm uses the error at the point where we are and calculates the partial derivatives at that point. This returns the gradient vector, i.e. a vector of directions in which the error increases. Therefore, if we use the inverse of that value, we will go down. In short, gradient descent calculates the inverse of the gradient to know what values the hyperparameters should take.\n",
        "\n",
        "How much we move down will depend on another hyperparameter: the learning rate. This hyperparameter is not usually optimized, although two issues must be taken into account:\n",
        "\n",
        "* If the learning rate value is too low, the algorithm will take too long to learn, because each step will be too short.\n",
        "* If the learning rate is too high, you may exceed the optimal value, so you will not find the optimal value of the parameters.\n",
        "\n",
        "To avoid this, several techniques can be applied, such as decreasing the learning rate at each step, for example. In our case, we are not going to complicate and we will leave a fixed learning rate.\n",
        "\n",
        "With gradient descent at each iteration our parameters will approach an optimal value, until they reach an optimal point, after which our network will stop learning.\n",
        "\n",
        "This sounds great, but as I said, gradient descent uses the error at the point. We already have this error for our output vector, but what about the rest of the layers? For that, we use backpropagation."
      ]
    },
    {
      "cell_type": "markdown",
      "metadata": {
        "id": "cnB7A_brWl5i"
      },
      "source": [
        "###### Backpropagation"
      ]
    },
    {
      "cell_type": "markdown",
      "metadata": {
        "id": "kLu7-tViWqkD"
      },
      "source": [
        "In our neural network all the steps prior to the output neuron will have an impact on it: the error of the first layer will influence the error of the second layer, those of the first and second will influence those of the third and so on.\n",
        "\n",
        "Therefore, the only way to calculate the error of each neuron in each layer is to do the reverse process: first we calculate the error of the last layer, so we can calculate the error of the previous layer and so on until the whole process is completed.\n",
        "\n",
        "Moreover, this is an efficient process, since we can take advantage of the backward propagation to adjust the parameters W and b by gradient descent. In any case, to calculate the gradient descent we need to apply derivatives, among which are the derivatives of the cost function. For this very reason, when defining the activation functions we have also defined their derivatives, as this will save us a lot in the process.\n",
        "\n",
        "Having said that, let's see how gradient descent and backpropagation work. To do this, let's see what are the initial values of our parameters W and b in any layer, such as the last one."
      ]
    },
    {
      "cell_type": "markdown",
      "metadata": {
        "id": "fvrjvMuDkeRK"
      },
      "source": [
        "# Runing The Neural Network"
      ]
    },
    {
      "cell_type": "code",
      "metadata": {
        "colab": {
          "base_uri": "https://localhost:8080/",
          "height": 517
        },
        "id": "z_ydhClKlwKl",
        "outputId": "69faa165-5802-4075-eb94-9bbaead62cd1"
      },
      "source": [
        "import time\n",
        "from IPython.display import clear_output\n",
        "\n",
        "neural_n = create_nn(topology, sigm)\n",
        "\n",
        "loss = []\n",
        "\n",
        "for i in range (2500):\n",
        "\n",
        "  #Training\n",
        "  pY = train(neural_n, X, Y, l2_cost, lr=0.05)\n",
        "\n",
        "  if i % 25 == 0:\n",
        "\n",
        "    print (pY)\n",
        "\n",
        "    loss.append (l2_cost[0](pY, Y))\n",
        "\n",
        "    res = 50\n",
        "    \n",
        "    _x0 = np.linspace(-1.5, 1.5, res)\n",
        "    _x1 = np.linspace(-1.5, 1.5, res)\n",
        "\n",
        "    _Y = np.zeros((res, res))\n",
        "\n",
        "    for i0, x0 in enumerate(_x0):\n",
        "      for i1, x1 in enumerate(_x1):\n",
        "        _Y[i0, i1] = train(neural_n, np.array([[x0, x1]]), Y, l2_cost, train=False)[0][0]\n",
        "\n",
        "    plt.pcolormesh(_x0, _x1, _Y, cmap=\"coolwarm\")\n",
        "    plt.axis(\"equal\")\n",
        "\n",
        "    plt.scatter(X[Y[:, 0] == 0, 0], X[Y[:, 0] == 0, 1], c=\"blue\")\n",
        "    plt.scatter(X[Y[:, 0] == 1, 0], X[Y[:, 0] == 1, 1], c=\"red\")\n",
        "\n",
        "    clear_output(wait=True)\n",
        "    plt.show()\n",
        "    plt.plot(range(len(loss)), loss)\n",
        "    plt.show()\n",
        "    time.sleep(0.5)"
      ],
      "execution_count": null,
      "outputs": [
        {
          "output_type": "display_data",
          "data": {
            "image/png": "[encoded data removed]",
            "text/plain": [
              "<Figure size 432x288 with 1 Axes>"
            ]
          },
          "metadata": {
            "needs_background": "light"
          }
        },
        {
          "output_type": "display_data",
          "data": {
            "image/png": "[encoded data removed]",
            "text/plain": [
              "<Figure size 432x288 with 1 Axes>"
            ]
          },
          "metadata": {
            "needs_background": "light"
          }
        }
      ]
    }
  ]
}